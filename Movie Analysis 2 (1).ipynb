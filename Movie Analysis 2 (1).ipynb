{
 "cells": [
  {
   "cell_type": "code",
   "execution_count": 1,
   "metadata": {},
   "outputs": [],
   "source": [
    "#*******************************************************************************\n",
    "# Dependencies and Setup\n",
    "#*******************************************************************************\n",
    "import matplotlib.pyplot as plt\n",
    "import pandas as pd\n",
    "import numpy as np\n",
    "import seaborn as sns\n",
    "\n",
    "#*******************************************************************************\n",
    "# Load Movie Metadata and Ratings Data Files\n",
    "#*******************************************************************************\n",
    "movies_metadata_to_load = \"Movie_Datasets/movies_metadata.csv\"\n",
    "ratings_to_load = \"Movie_Datasets/ratings.csv\""
   ]
  },
  {
   "cell_type": "code",
   "execution_count": 2,
   "metadata": {},
   "outputs": [],
   "source": [
    "#*******************************************************************************\n",
    "# Read the Movie MetaData from the file and store in a DataFrame\n",
    "#*******************************************************************************\n",
    "movies_metadata_df = pd.read_csv(movies_metadata_to_load, low_memory=False)"
   ]
  },
  {
   "cell_type": "code",
   "execution_count": 3,
   "metadata": {},
   "outputs": [],
   "source": [
    "#*******************************************************************************\n",
    "# Remove rows with invalid id's and convert the id to a number.\n",
    "#*******************************************************************************\n",
    "num_movies_metadata_df = (movies_metadata_df.drop(\"id\", axis=1)\n",
    "                          .join(movies_metadata_df[\"id\"].apply(pd.to_numeric, errors='coerce')))\n",
    "num_movies_metadata_df[\"id\"] = pd.to_numeric(num_movies_metadata_df[\"id\"])"
   ]
  },
  {
   "cell_type": "code",
   "execution_count": 4,
   "metadata": {},
   "outputs": [],
   "source": [
    "#*******************************************************************************\n",
    "# Rename the \"id\" colum header to \"movieId\" to alighn with the Ratings dataframe\n",
    "#*******************************************************************************\n",
    "renamed_movies_metadata_df = num_movies_metadata_df.rename(columns={\"id\":\"movieId\"})"
   ]
  },
  {
   "cell_type": "code",
   "execution_count": 5,
   "metadata": {},
   "outputs": [
    {
     "name": "stdout",
     "output_type": "stream",
     "text": [
      "There are 45466 movies included in the Movie MetaData dataset.\n"
     ]
    }
   ],
   "source": [
    "#*******************************************************************************\n",
    "# Print the number of movies in the dataframe.\n",
    "#*******************************************************************************\n",
    "print(f\"There are {num_movies_metadata_df.shape[0]} movies included in the Movie MetaData dataset.\")"
   ]
  },
  {
   "cell_type": "code",
   "execution_count": 6,
   "metadata": {},
   "outputs": [],
   "source": [
    "#*******************************************************************************\n",
    "# Read the Rating Data from the file and store in a DataFrame\n",
    "#*******************************************************************************\n",
    "ratings_df = pd.read_csv(ratings_to_load)"
   ]
  },
  {
   "cell_type": "code",
   "execution_count": 7,
   "metadata": {},
   "outputs": [],
   "source": [
    "#*******************************************************************************\n",
    "# Remove rows with invalid movieId's and convert the movieId to a number.\n",
    "#*******************************************************************************\n",
    "num_movies_ratings_df = (ratings_df.drop(\"movieId\", axis=1)\n",
    "                          .join(ratings_df[\"movieId\"].apply(pd.to_numeric, errors='coerce')))\n",
    "num_movies_ratings_df[\"movieId\"] = pd.to_numeric(num_movies_ratings_df[\"movieId\"])"
   ]
  },
  {
   "cell_type": "code",
   "execution_count": 8,
   "metadata": {},
   "outputs": [],
   "source": [
    "#*******************************************************************************\n",
    "# Group the movie rating data by movie and average the ratings provided by the \n",
    "# individual users for each movie.\n",
    "#*******************************************************************************\n",
    "ave_movie_rating = num_movies_ratings_df.groupby([\"movieId\"]).mean()"
   ]
  },
  {
   "cell_type": "code",
   "execution_count": 9,
   "metadata": {},
   "outputs": [
    {
     "name": "stdout",
     "output_type": "stream",
     "text": [
      "There are 20499 movies included in this dataset.\n"
     ]
    }
   ],
   "source": [
    "#*******************************************************************************\n",
    "# Print the number of movies in the dataframe.\n",
    "#*******************************************************************************\n",
    "print(f\"There are {ave_movie_rating.shape[0]} movies included in this dataset.\")"
   ]
  },
  {
   "cell_type": "code",
   "execution_count": 10,
   "metadata": {},
   "outputs": [
    {
     "data": {
      "text/html": [
       "<div>\n",
       "<style scoped>\n",
       "    .dataframe tbody tr th:only-of-type {\n",
       "        vertical-align: middle;\n",
       "    }\n",
       "\n",
       "    .dataframe tbody tr th {\n",
       "        vertical-align: top;\n",
       "    }\n",
       "\n",
       "    .dataframe thead th {\n",
       "        text-align: right;\n",
       "    }\n",
       "</style>\n",
       "<table border=\"1\" class=\"dataframe\">\n",
       "  <thead>\n",
       "    <tr style=\"text-align: right;\">\n",
       "      <th></th>\n",
       "      <th>adult</th>\n",
       "      <th>belongs_to_collection</th>\n",
       "      <th>budget</th>\n",
       "      <th>genres</th>\n",
       "      <th>homepage</th>\n",
       "      <th>imdb_id</th>\n",
       "      <th>original_language</th>\n",
       "      <th>original_title</th>\n",
       "      <th>overview</th>\n",
       "      <th>popularity</th>\n",
       "      <th>...</th>\n",
       "      <th>status</th>\n",
       "      <th>tagline</th>\n",
       "      <th>title</th>\n",
       "      <th>video</th>\n",
       "      <th>vote_average</th>\n",
       "      <th>vote_count</th>\n",
       "      <th>movieId</th>\n",
       "      <th>userId</th>\n",
       "      <th>rating</th>\n",
       "      <th>timestamp</th>\n",
       "    </tr>\n",
       "  </thead>\n",
       "  <tbody>\n",
       "    <tr>\n",
       "      <th>0</th>\n",
       "      <td>False</td>\n",
       "      <td>{'id': 10194, 'name': 'Toy Story Collection', ...</td>\n",
       "      <td>30000000</td>\n",
       "      <td>[{'id': 16, 'name': 'Animation'}, {'id': 35, '...</td>\n",
       "      <td>http://toystory.disney.com/toy-story</td>\n",
       "      <td>tt0114709</td>\n",
       "      <td>en</td>\n",
       "      <td>Toy Story</td>\n",
       "      <td>Led by Woody, Andy's toys live happily in his ...</td>\n",
       "      <td>21.946943</td>\n",
       "      <td>...</td>\n",
       "      <td>Released</td>\n",
       "      <td>NaN</td>\n",
       "      <td>Toy Story</td>\n",
       "      <td>False</td>\n",
       "      <td>7.7</td>\n",
       "      <td>5415.0</td>\n",
       "      <td>862.0</td>\n",
       "      <td>6771.818182</td>\n",
       "      <td>3.454545</td>\n",
       "      <td>9.273843e+08</td>\n",
       "    </tr>\n",
       "    <tr>\n",
       "      <th>1</th>\n",
       "      <td>False</td>\n",
       "      <td>NaN</td>\n",
       "      <td>65000000</td>\n",
       "      <td>[{'id': 12, 'name': 'Adventure'}, {'id': 14, '...</td>\n",
       "      <td>NaN</td>\n",
       "      <td>tt0113497</td>\n",
       "      <td>en</td>\n",
       "      <td>Jumanji</td>\n",
       "      <td>When siblings Judy and Peter discover an encha...</td>\n",
       "      <td>17.015539</td>\n",
       "      <td>...</td>\n",
       "      <td>Released</td>\n",
       "      <td>Roll the dice and unleash the excitement!</td>\n",
       "      <td>Jumanji</td>\n",
       "      <td>False</td>\n",
       "      <td>6.9</td>\n",
       "      <td>2413.0</td>\n",
       "      <td>8844.0</td>\n",
       "      <td>8091.500000</td>\n",
       "      <td>4.125000</td>\n",
       "      <td>1.207761e+09</td>\n",
       "    </tr>\n",
       "  </tbody>\n",
       "</table>\n",
       "<p>2 rows × 27 columns</p>\n",
       "</div>"
      ],
      "text/plain": [
       "   adult                              belongs_to_collection    budget  \\\n",
       "0  False  {'id': 10194, 'name': 'Toy Story Collection', ...  30000000   \n",
       "1  False                                                NaN  65000000   \n",
       "\n",
       "                                              genres  \\\n",
       "0  [{'id': 16, 'name': 'Animation'}, {'id': 35, '...   \n",
       "1  [{'id': 12, 'name': 'Adventure'}, {'id': 14, '...   \n",
       "\n",
       "                               homepage    imdb_id original_language  \\\n",
       "0  http://toystory.disney.com/toy-story  tt0114709                en   \n",
       "1                                   NaN  tt0113497                en   \n",
       "\n",
       "  original_title                                           overview  \\\n",
       "0      Toy Story  Led by Woody, Andy's toys live happily in his ...   \n",
       "1        Jumanji  When siblings Judy and Peter discover an encha...   \n",
       "\n",
       "  popularity      ...         status  \\\n",
       "0  21.946943      ...       Released   \n",
       "1  17.015539      ...       Released   \n",
       "\n",
       "                                     tagline      title  video  vote_average  \\\n",
       "0                                        NaN  Toy Story  False           7.7   \n",
       "1  Roll the dice and unleash the excitement!    Jumanji  False           6.9   \n",
       "\n",
       "   vote_count movieId       userId    rating     timestamp  \n",
       "0      5415.0   862.0  6771.818182  3.454545  9.273843e+08  \n",
       "1      2413.0  8844.0  8091.500000  4.125000  1.207761e+09  \n",
       "\n",
       "[2 rows x 27 columns]"
      ]
     },
     "execution_count": 10,
     "metadata": {},
     "output_type": "execute_result"
    }
   ],
   "source": [
    "#*******************************************************************************\n",
    "# Merve Movie Metadata and Ratings data together based on teh \"movieId\" column.\n",
    "#*******************************************************************************\n",
    "merge_table = pd.merge(renamed_movies_metadata_df, ave_movie_rating, on=\"movieId\")\n",
    "merge_table.head(2)"
   ]
  },
  {
   "cell_type": "code",
   "execution_count": 11,
   "metadata": {},
   "outputs": [],
   "source": [
    "#*******************************************************************************\n",
    "# Trim the data to only include the columns we need for the analysis.\n",
    "#*******************************************************************************\n",
    "trimmed_merge_table = merge_table[[\"budget\", \"genres\", \"imdb_id\", \"production_countries\", \n",
    "                                   \"release_date\", \"runtime\", \"revenue\", \"title\", \n",
    "                                   \"vote_average\", \"vote_count\", \"movieId\", \"rating\", \"popularity\"]]"
   ]
  },
  {
   "cell_type": "code",
   "execution_count": 12,
   "metadata": {},
   "outputs": [],
   "source": [
    "#*******************************************************************************\n",
    "# Trim the data to only include the columns we need for the analysis.\n",
    "#*******************************************************************************\n",
    "clean_trimmed_merge_table = trimmed_merge_table.dropna(how='any')"
   ]
  },
  {
   "cell_type": "code",
   "execution_count": 13,
   "metadata": {},
   "outputs": [
    {
     "name": "stdout",
     "output_type": "stream",
     "text": [
      "There are 5075 movies included in this dataset.\n"
     ]
    }
   ],
   "source": [
    "#*******************************************************************************\n",
    "# Print the number of movies in the dataframe.\n",
    "#*******************************************************************************\n",
    "print(f\"There are {clean_trimmed_merge_table.shape[0]} movies included in this dataset.\")"
   ]
  },
  {
   "cell_type": "code",
   "execution_count": 14,
   "metadata": {},
   "outputs": [
    {
     "name": "stdout",
     "output_type": "stream",
     "text": [
      "There are 5075 movies included in this dataset.\n"
     ]
    }
   ],
   "source": [
    "#*******************************************************************************\n",
    "# Print the number of movies in the dataframe.\n",
    "#*******************************************************************************\n",
    "trimmed_runtime_movies_df = clean_trimmed_merge_table.loc[clean_trimmed_merge_table[\"runtime\"] < 900, :]\n",
    "\n",
    "#*******************************************************************************\n",
    "# Print the number of movies in the dataframe.\n",
    "#*******************************************************************************\n",
    "print(f\"There are {trimmed_runtime_movies_df.shape[0]} movies included in this dataset.\")"
   ]
  },
  {
   "cell_type": "code",
   "execution_count": 15,
   "metadata": {},
   "outputs": [],
   "source": [
    "#*******************************************************************************\n",
    "# Create the bins by range of runtime hours\n",
    "#*******************************************************************************\n",
    "bins = [0, 60, 120, 180, 900]\n",
    "\n",
    "#*******************************************************************************\n",
    "# Create the names for the four groups of runtime hours\n",
    "#*******************************************************************************\n",
    "group_names = [\"< 1 Hrs\", \"1-2 Hrs\", \"2-3 Hrs\", \"> 3 Hrs\" ]"
   ]
  },
  {
   "cell_type": "code",
   "execution_count": 16,
   "metadata": {},
   "outputs": [],
   "source": [
    "#*******************************************************************************\n",
    "# Create a new column to store the range of runtime hours for each movie.\n",
    "#*******************************************************************************\n",
    "trimmed_runtime_movies_df[\"Runtime Breakdown\"] = pd.cut(trimmed_runtime_movies_df[\"runtime\"], \n",
    "                                                        bins, labels=group_names)"
   ]
  },
  {
   "cell_type": "code",
   "execution_count": 17,
   "metadata": {},
   "outputs": [
    {
     "data": {
      "text/plain": [
       "Runtime Breakdown\n",
       "< 1 Hrs     164\n",
       "1-2 Hrs    3925\n",
       "2-3 Hrs     841\n",
       "> 3 Hrs      82\n",
       "Name: runtime, dtype: int64"
      ]
     },
     "execution_count": 17,
     "metadata": {},
     "output_type": "execute_result"
    }
   ],
   "source": [
    "\n",
    "#*******************************************************************************\n",
    "# Create a new dataframe to hold the 3 columns needed for this graph, group \n",
    "# the data by the range of runtime hours (Runtime Breakdown) and get the count \n",
    "# for each set of hours.\n",
    "#*******************************************************************************\n",
    "runtime_count_df = trimmed_runtime_movies_df[[\"rating\", \"runtime\", \"Runtime Breakdown\"]]\n",
    "runtime_count_df = runtime_count_df.groupby(\"Runtime Breakdown\")\n",
    "runtime_count_df.count()[\"runtime\"]"
   ]
  },
  {
   "cell_type": "code",
   "execution_count": 18,
   "metadata": {},
   "outputs": [
    {
     "data": {
      "image/png": "[encoded data removed]",
      "text/plain": [
       "<Figure size 432x288 with 1 Axes>"
      ]
     },
     "metadata": {},
     "output_type": "display_data"
    }
   ],
   "source": [
    "#*******************************************************************************\n",
    "# Create the pie chart showing the breakdown of movies by runtime range.\n",
    "#*******************************************************************************\n",
    "\n",
    "#*******************************************************************************\n",
    "# Define appearance for the pie chart\n",
    "#*******************************************************************************\n",
    "colors = [\"lightgreen\",\"lightblue\", \"gold\", \"tan\"]\n",
    "explode = (0.15,0.15,0.15,0.15)\n",
    "\n",
    "#*******************************************************************************\n",
    "# Define the title for the pie chart\n",
    "#*******************************************************************************\n",
    "plt.title(\"% of Movies by Runtime\", y=1.25, fontsize=15)\n",
    "\n",
    "#*******************************************************************************\n",
    "# Define pie chart\n",
    "#*******************************************************************************\n",
    "plt.pie(runtime_count_df.count()[\"runtime\"], explode=explode, \n",
    "        labels=group_names, colors=colors, autopct=\"%1.1f%%\", shadow=True, \n",
    "        startangle=10, radius=1.75)\n",
    "\n",
    "#*******************************************************************************\n",
    "# Show Figures\n",
    "#*******************************************************************************\n",
    "plt.show()\n"
   ]
  },
  {
   "cell_type": "code",
   "execution_count": 19,
   "metadata": {},
   "outputs": [],
   "source": [
    "#*******************************************************************************\n",
    "# Remove rows with invalid budget's and convert the budget to a number.\n",
    "#*******************************************************************************\n",
    "num_budget_df = (trimmed_runtime_movies_df.drop(\"budget\", axis=1)\n",
    "                          .join(trimmed_runtime_movies_df[\"budget\"].apply(pd.to_numeric, errors='coerce')))\n",
    "num_budget_df[\"budget\"] = pd.to_numeric(num_budget_df[\"budget\"])"
   ]
  },
  {
   "cell_type": "code",
   "execution_count": 20,
   "metadata": {},
   "outputs": [],
   "source": [
    "#*******************************************************************************\n",
    "# Remove rows with invalid revenue's and convert the revenue to a number.\n",
    "#*******************************************************************************\n",
    "num_revenue_df = (num_budget_df.drop(\"revenue\", axis=1)\n",
    "                          .join(num_budget_df[\"revenue\"].apply(pd.to_numeric, errors='coerce')))\n",
    "num_revenue_df[\"revenue\"] = pd.to_numeric(num_revenue_df[\"revenue\"])"
   ]
  },
  {
   "cell_type": "code",
   "execution_count": 21,
   "metadata": {},
   "outputs": [],
   "source": [
    "#*******************************************************************************\n",
    "# Create a new dataframe to hold the 3 columns needed for this graph, group \n",
    "# the data by the range of runtime hours (Runtime Breakdown) and get the average \n",
    "# for each set of hours.\n",
    "#*******************************************************************************\n",
    "ratings_runtime_ave_df = num_revenue_df[[\"rating\", \"runtime\", \"Runtime Breakdown\"]]\n",
    "ratings_runtime_ave_df = ratings_runtime_ave_df.groupby(\"Runtime Breakdown\").mean()"
   ]
  },
  {
   "cell_type": "code",
   "execution_count": 22,
   "metadata": {},
   "outputs": [],
   "source": [
    "#*******************************************************************************\n",
    "# Filter the DataFrame down only to those columns to chart (index is the \n",
    "# Runtime Breakdown)\n",
    "#*******************************************************************************\n",
    "runtime_and_ave_df = ratings_runtime_ave_df[[\"rating\"]]"
   ]
  },
  {
   "cell_type": "code",
   "execution_count": 23,
   "metadata": {},
   "outputs": [
    {
     "data": {
      "image/png": "[encoded data removed]",
      "text/plain": [
       "<Figure size 576x288 with 1 Axes>"
      ]
     },
     "metadata": {
      "needs_background": "light"
     },
     "output_type": "display_data"
    }
   ],
   "source": [
    "#*******************************************************************************\n",
    "# Create a bar chart of the data\n",
    "#*******************************************************************************\n",
    "runtime_and_ave_df.plot(kind=\"bar\", figsize=(8,4))\n",
    "\n",
    "#*******************************************************************************\n",
    "# Set a title, axis labels and clear the legend\n",
    "#*******************************************************************************\n",
    "plt.title(\"Average Rating per Runtime\", y=1.05, fontsize=25)\n",
    "plt.xlabel(\"Runtime\", y=1.05, fontsize=15)\n",
    "plt.ylabel(\"Average Rating\", fontsize=15)\n",
    "plt.legend(\"\")\n",
    "\n",
    "#*******************************************************************************\n",
    "# Set the upper and lower y values to make it easier to see the difference.\n",
    "#*******************************************************************************\n",
    "plt.ylim([3,3.2])\n",
    "\n",
    "#*******************************************************************************\n",
    "# Add the grid to the chart and display the chart\n",
    "#*******************************************************************************\n",
    "plt.grid()\n",
    "plt.show()"
   ]
  },
  {
   "cell_type": "code",
   "execution_count": 47,
   "metadata": {},
   "outputs": [
    {
     "data": {
      "image/png": "[encoded data removed]",
      "text/plain": [
       "<Figure size 576x432 with 1 Axes>"
      ]
     },
     "metadata": {
      "needs_background": "light"
     },
     "output_type": "display_data"
    }
   ],
   "source": [
    "#Create Box & Whisker plot comparng average runtime vs average ratings\n",
    "runtime_and_ave_df.plot(kind=\"box\", figsize=(8,6), showmeans=True, meanline=True,)\n",
    "\n",
    "#Chart Titles/Labels\n",
    "plt.title(\"Average Rating Per Runtime\")\n",
    "plt.xlabel(\"Average Runtime\")\n",
    "plt.ylabel(\"Average Ratings\")\n",
    "plt.grid()\n",
    "plt.show()"
   ]
  },
  {
   "cell_type": "code",
   "execution_count": 27,
   "metadata": {},
   "outputs": [],
   "source": [
    "#*******************************************************************************\n",
    "# Remove rows with invalid budget's and convert the budget to a number.\n",
    "#*******************************************************************************\n",
    "num_fin_budget_df = (clean_trimmed_merge_table.drop(\"budget\", axis=1)\n",
    "                     .join(clean_trimmed_merge_table[\"budget\"].apply(pd.to_numeric, errors='coerce')))\n",
    "num_fin_budget_df[\"budget\"] = pd.to_numeric(num_fin_budget_df[\"budget\"])"
   ]
  },
  {
   "cell_type": "code",
   "execution_count": 28,
   "metadata": {},
   "outputs": [],
   "source": [
    "#*******************************************************************************\n",
    "# Remove rows with invalid revenue's and convert the revenue to a number.\n",
    "#*******************************************************************************\n",
    "num_fin_revenue_df = (num_fin_budget_df.drop(\"revenue\", axis=1)\n",
    "                          .join(num_fin_budget_df[\"revenue\"].apply(pd.to_numeric, errors='coerce')))\n",
    "num_fin_revenue_df[\"revenue\"] = pd.to_numeric(num_fin_revenue_df[\"revenue\"])\n"
   ]
  },
  {
   "cell_type": "code",
   "execution_count": 29,
   "metadata": {},
   "outputs": [
    {
     "name": "stdout",
     "output_type": "stream",
     "text": [
      "There are 1830 movies included in this dataset.\n"
     ]
    }
   ],
   "source": [
    "#*******************************************************************************\n",
    "# Eliminate any budget items that are less than or equal to zero.\n",
    "#*******************************************************************************\n",
    "clean_budget_df = num_fin_revenue_df.loc[num_revenue_df[\"budget\"] > 0, :]\n",
    "\n",
    "#*******************************************************************************\n",
    "# Print the number of movies in the dataframe.\n",
    "#*******************************************************************************\n",
    "print(f\"There are {clean_budget_df.shape[0]} movies included in this dataset.\")"
   ]
  },
  {
   "cell_type": "code",
   "execution_count": 31,
   "metadata": {},
   "outputs": [
    {
     "name": "stdout",
     "output_type": "stream",
     "text": [
      "There are 1425 movies included in this dataset.\n"
     ]
    }
   ],
   "source": [
    "#*******************************************************************************\n",
    "# Eliminate any revenue items that are less than or equal to zero.\n",
    "#*******************************************************************************\n",
    "financial_df = clean_budget_df.loc[clean_budget_df[\"revenue\"] > 0, :]\n",
    "\n",
    "#*******************************************************************************\n",
    "# Print the number of movies in the dataframe.\n",
    "#*******************************************************************************\n",
    "print(f\"There are {financial_df.shape[0]} movies included in this dataset.\")"
   ]
  },
  {
   "cell_type": "code",
   "execution_count": 32,
   "metadata": {},
   "outputs": [
    {
     "name": "stderr",
     "output_type": "stream",
     "text": [
      "C:\\Users\\piest\\Anaconda3\\envs\\PythonData\\lib\\site-packages\\ipykernel_launcher.py:4: SettingWithCopyWarning: \n",
      "A value is trying to be set on a copy of a slice from a DataFrame.\n",
      "Try using .loc[row_indexer,col_indexer] = value instead\n",
      "\n",
      "See the caveats in the documentation: http://pandas.pydata.org/pandas-docs/stable/indexing.html#indexing-view-versus-copy\n",
      "  after removing the cwd from sys.path.\n",
      "C:\\Users\\piest\\Anaconda3\\envs\\PythonData\\lib\\site-packages\\ipykernel_launcher.py:5: SettingWithCopyWarning: \n",
      "A value is trying to be set on a copy of a slice from a DataFrame.\n",
      "Try using .loc[row_indexer,col_indexer] = value instead\n",
      "\n",
      "See the caveats in the documentation: http://pandas.pydata.org/pandas-docs/stable/indexing.html#indexing-view-versus-copy\n",
      "  \"\"\"\n",
      "C:\\Users\\piest\\Anaconda3\\envs\\PythonData\\lib\\site-packages\\ipykernel_launcher.py:10: SettingWithCopyWarning: \n",
      "A value is trying to be set on a copy of a slice from a DataFrame.\n",
      "Try using .loc[row_indexer,col_indexer] = value instead\n",
      "\n",
      "See the caveats in the documentation: http://pandas.pydata.org/pandas-docs/stable/indexing.html#indexing-view-versus-copy\n",
      "  # Remove the CWD from sys.path while we load stuff.\n"
     ]
    }
   ],
   "source": [
    "#*******************************************************************************\n",
    "# Convert revenue and budget to numbers\n",
    "#*******************************************************************************\n",
    "financial_df[\"revenue\"] = pd.to_numeric(financial_df[\"revenue\"])\n",
    "financial_df[\"budget\"] = pd.to_numeric(financial_df[\"budget\"])\n",
    "\n",
    "#*******************************************************************************\n",
    "# Add the Profit (revenue - budget) to the dataframe\n",
    "#*******************************************************************************\n",
    "financial_df[\"Profit\"] = (financial_df[\"revenue\"] - financial_df[\"budget\"])/1000000"
   ]
  },
  {
   "cell_type": "code",
   "execution_count": 33,
   "metadata": {},
   "outputs": [],
   "source": [
    "#*******************************************************************************\n",
    "# Limit the dtaframe to the columns needed for the analysis\n",
    "#*******************************************************************************\n",
    "financial_df = financial_df[[\"rating\", \"budget\", \"revenue\", \"Profit\"]]"
   ]
  },
  {
   "cell_type": "code",
   "execution_count": 34,
   "metadata": {},
   "outputs": [
    {
     "name": "stdout",
     "output_type": "stream",
     "text": [
      "min profit is -98.301101\n",
      "min profit is 1645.034188\n"
     ]
    }
   ],
   "source": [
    "#*******************************************************************************\n",
    "# Determine the minimum and maximum profit values to create bins\n",
    "#*******************************************************************************\n",
    "minProfit = financial_df[\"Profit\"].min()\n",
    "maxProfit = financial_df[\"Profit\"].max()\n",
    "print(f\"min profit is {minProfit}\")\n",
    "print(f\"min profit is {maxProfit}\")"
   ]
  },
  {
   "cell_type": "code",
   "execution_count": 35,
   "metadata": {},
   "outputs": [],
   "source": [
    "#*******************************************************************************\n",
    "# Create the bins by several Profit ranges\n",
    "#*******************************************************************************\n",
    "fin_bins = [-100, 0, 350, 700, 1646]\n",
    "\n",
    "#*******************************************************************************\n",
    "# Create the names for the four groups of Profit ranges\n",
    "#*******************************************************************************\n",
    "fin_group_names = [\"< $0\", \"\\$0-\\$350\", \"\\$350-\\$700\", \"> $700\" ]"
   ]
  },
  {
   "cell_type": "code",
   "execution_count": 36,
   "metadata": {},
   "outputs": [],
   "source": [
    "#*******************************************************************************\n",
    "# Create a new column to store the Profit range for each movie.\n",
    "#*******************************************************************************\n",
    "financial_df[\"Profit Range (millions)\"] = pd.cut(financial_df[\"Profit\"], fin_bins, \n",
    "                                                 labels=fin_group_names)"
   ]
  },
  {
   "cell_type": "code",
   "execution_count": 37,
   "metadata": {},
   "outputs": [
    {
     "data": {
      "text/plain": [
       "Profit Range (millions)\n",
       "< $0            276\n",
       "\\$0-\\$350      1065\n",
       "\\$350-\\$700      65\n",
       "> $700           19\n",
       "Name: Profit, dtype: int64"
      ]
     },
     "execution_count": 37,
     "metadata": {},
     "output_type": "execute_result"
    }
   ],
   "source": [
    "#*******************************************************************************\n",
    "# Create a new dataframe to hold the 3 columns needed for this graph, group \n",
    "# the data by the rProfit ranges (Profit Range (millions)) and get the count \n",
    "# for each set ranges.\n",
    "#*******************************************************************************\n",
    "financial_count_df = financial_df[[\"rating\", \"Profit\", \"Profit Range (millions)\"]]\n",
    "financial_count_df = financial_count_df.groupby(\"Profit Range (millions)\")\n",
    "financial_count_df.count()[\"Profit\"]"
   ]
  },
  {
   "cell_type": "code",
   "execution_count": 38,
   "metadata": {},
   "outputs": [
    {
     "data": {
      "image/png": "[encoded data removed]",
      "text/plain": [
       "<Figure size 432x288 with 1 Axes>"
      ]
     },
     "metadata": {},
     "output_type": "display_data"
    }
   ],
   "source": [
    "#*******************************************************************************\n",
    "# Create the pie chart showing the breakdown of movies by Profit range.\n",
    "#*******************************************************************************\n",
    "\n",
    "#*******************************************************************************\n",
    "# Define appearance for the pie chart\n",
    "#*******************************************************************************\n",
    "colors = [\"lightgreen\",\"lightblue\", \"gold\", \"greenyellow\"]\n",
    "explode = (0.15,0.15,0.15,0.15)\n",
    "\n",
    "#*******************************************************************************\n",
    "# Define the title for the pie chart\n",
    "#*******************************************************************************\n",
    "plt.title(\"% Movies by Profit Range (in millions)\", y=1.25, fontsize=15)\n",
    "\n",
    "#*******************************************************************************\n",
    "# Define pie chart\n",
    "#*******************************************************************************\n",
    "plt.pie(financial_count_df.count()[\"Profit\"], explode=explode, \n",
    "        labels=fin_group_names, colors=colors, autopct=\"%1.1f%%\", shadow=True, \n",
    "        startangle=10, radius=1.6)\n",
    "\n",
    "#*******************************************************************************\n",
    "# Show Figures\n",
    "#*******************************************************************************\n",
    "plt.show()"
   ]
  },
  {
   "cell_type": "code",
   "execution_count": 39,
   "metadata": {},
   "outputs": [],
   "source": [
    "#*******************************************************************************\n",
    "# Create a new dataframe to hold the 3 columns needed for this graph, group \n",
    "# the data by the Profit range (Profit Range (millions)) and get the average \n",
    "# for each set of hours.\n",
    "#*******************************************************************************\n",
    "financial_ave_df = financial_df[[\"rating\", \"Profit\", \"Profit Range (millions)\"]]\n",
    "financial_ave_df = financial_ave_df.groupby(\"Profit Range (millions)\").mean()"
   ]
  },
  {
   "cell_type": "code",
   "execution_count": 40,
   "metadata": {},
   "outputs": [],
   "source": [
    "#*******************************************************************************\n",
    "# Filter the DataFrame down only to the columns needed for the chart (index is \n",
    "# the Profit Range (millions))\n",
    "#*******************************************************************************\n",
    "financial_ave_df = financial_ave_df[[\"rating\"]]"
   ]
  },
  {
   "cell_type": "code",
   "execution_count": 41,
   "metadata": {},
   "outputs": [
    {
     "data": {
      "image/png": "[encoded data removed]",
      "text/plain": [
       "<Figure size 576x288 with 1 Axes>"
      ]
     },
     "metadata": {
      "needs_background": "light"
     },
     "output_type": "display_data"
    }
   ],
   "source": [
    "#*******************************************************************************\n",
    "# Create a bar chart of the data\n",
    "#*******************************************************************************\n",
    "financial_ave_df.plot(kind=\"bar\", figsize=(8,4))\n",
    "\n",
    "#*******************************************************************************\n",
    "# Set a title, axis labels and clear the legend\n",
    "#*******************************************************************************\n",
    "plt.title(\"Average Rating by Profit\", y=1.05, fontsize=25)\n",
    "plt.xlabel(\"Profit (millions)\", y=1.05, fontsize=15)\n",
    "plt.ylabel(\"Average Rating\", fontsize=15)\n",
    "plt.legend(\"\")\n",
    "\n",
    "#*******************************************************************************\n",
    "# Set the upper and lower y values to make it easier to see the difference.\n",
    "#*******************************************************************************\n",
    "plt.ylim([3,3.3])\n",
    "\n",
    "#*******************************************************************************\n",
    "# Add the grid to the chart and display the chart\n",
    "#*******************************************************************************\n",
    "plt.grid()\n",
    "plt.show()"
   ]
  },
  {
   "cell_type": "code",
   "execution_count": null,
   "metadata": {},
   "outputs": [],
   "source": []
  }
 ],
 "metadata": {
  "kernelspec": {
   "display_name": "Python 3",
   "language": "python",
   "name": "python3"
  },
  "language_info": {
   "codemirror_mode": {
    "name": "ipython",
    "version": 3
   },
   "file_extension": ".py",
   "mimetype": "text/x-python",
   "name": "python",
   "nbconvert_exporter": "python",
   "pygments_lexer": "ipython3",
   "version": "3.7.1"
  }
 },
 "nbformat": 4,
 "nbformat_minor": 2
}
