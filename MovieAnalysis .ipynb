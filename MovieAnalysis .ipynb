{
 "cells": [
  {
   "cell_type": "code",
   "execution_count": 1,
   "metadata": {},
   "outputs": [],
   "source": [
    "#*******************************************************************************\n",
    "# Dependencies and Setup\n",
    "#*******************************************************************************\n",
    "import matplotlib.pyplot as plt\n",
    "import pandas as pd\n",
    "import numpy as np\n",
    "\n",
    "#*******************************************************************************\n",
    "# Load Movie Metadata and Ratings Data Files\n",
    "#*******************************************************************************\n",
    "movies_metadata_to_load = \"Movie_Datasets/movies_metadata.csv\"\n",
    "ratings_to_load = \"Movie_Datasets/ratings.csv\""
   ]
  },
  {
   "cell_type": "code",
   "execution_count": null,
   "metadata": {},
   "outputs": [],
   "source": [
    "#*******************************************************************************\n",
    "# Limit the dtaframe to the columns needed for the analysis\n",
    "#*******************************************************************************\n",
    "financial_df = financial_df[[\"rating\", \"budget\", \"revenue\", \"Profit\"]]"
   ]
  },
  {
   "cell_type": "code",
   "execution_count": null,
   "metadata": {},
   "outputs": [],
   "source": [
    "#*******************************************************************************\n",
    "# Determine the minimum and maximum profit values to create bins\n",
    "#*******************************************************************************\n",
    "minProfit = financial_df[\"budget\"].min()\n",
    "maxProfit = financial_df[\"budget\"].max()\n",
    "print(f\"min budget is {minProfit}\")\n",
    "print(f\"min budget is {maxProfit}\")"
   ]
  },
  {
   "cell_type": "code",
   "execution_count": null,
   "metadata": {},
   "outputs": [],
   "source": [
    "#*******************************************************************************\n",
    "# Create the bins by several Profit ranges\n",
    "#*******************************************************************************\n",
    "fin_bins = [-100, 0, 350, 700, 1646]\n",
    "\n",
    "#*******************************************************************************\n",
    "# Create the names for the four groups of Profit ranges\n",
    "#*******************************************************************************\n",
    "fin_group_names = [\"< $0\", \"\\$0-\\$350\", \"\\$350-\\$700\", \"> $700\" ]"
   ]
  },
  {
   "cell_type": "code",
   "execution_count": null,
   "metadata": {},
   "outputs": [],
   "source": [
    "#*******************************************************************************\n",
    "# Create a new column to store the Profit range for each movie.\n",
    "#*******************************************************************************\n",
    "financial_df[\"Budget Range (millions)\"] = pd.cut(financial_df[\"Budget\"], fin_bins, \n",
    "                                                 labels=fin_group_names)"
   ]
  },
  {
   "cell_type": "code",
   "execution_count": null,
   "metadata": {},
   "outputs": [],
   "source": [
    "#*******************************************************************************\n",
    "# Create a new dataframe to hold the 3 columns needed for this graph, group \n",
    "# the data by the rProfit ranges (Profit Range (millions)) and get the count \n",
    "# for each set ranges.\n",
    "#*******************************************************************************\n",
    "financial_count_df = financial_df[[\"rating\", \"Budget\", \"Budget Range (millions)\"]]\n",
    "financial_count_df = financial_count_df.groupby(\"Budget Range (millions)\")\n",
    "financial_count_df.count()[\"Budget\"]"
   ]
  },
  {
   "cell_type": "code",
   "execution_count": null,
   "metadata": {},
   "outputs": [],
   "source": [
    "#*******************************************************************************\n",
    "# Create the pie chart showing the breakdown of movies by Profit range.\n",
    "#*******************************************************************************\n",
    "\n",
    "#*******************************************************************************\n",
    "# Define appearance for the pie chart\n",
    "#*******************************************************************************\n",
    "colors = [\"lightgreen\",\"lightblue\", \"gold\", \"greenyellow\"]\n",
    "explode = (0.15,0.15,0.15,0.15)\n",
    "\n",
    "#*******************************************************************************\n",
    "# Define the title for the pie chart\n",
    "#*******************************************************************************\n",
    "plt.title(\"% Movies by Budget Range (in millions)\", y=1.25, fontsize=15)\n",
    "\n",
    "#*******************************************************************************\n",
    "# Define pie chart\n",
    "#*******************************************************************************\n",
    "plt.pie(financial_count_df.count()[\"Budget\"], explode=explode, \n",
    "        labels=fin_group_names, colors=colors, autopct=\"%1.1f%%\", shadow=True, \n",
    "        startangle=10, radius=1.6)\n",
    "\n",
    "#*******************************************************************************\n",
    "# Show Figures\n",
    "#*******************************************************************************\n",
    "plt.show()"
   ]
  },
  {
   "cell_type": "code",
   "execution_count": null,
   "metadata": {},
   "outputs": [],
   "source": [
    "# #*******************************************************************************\n",
    "# Create a new dataframe to hold the 3 columns needed for this graph, group \n",
    "# the data by the Profit range (Profit Range (millions)) and get the average \n",
    "# for each set of hours.\n",
    "#*******************************************************************************\n",
    "financial_ave_df = financial_df[[\"rating\", \"Budget\", \"Budget Range (millions)\"]]\n",
    "financial_ave_df = financial_ave_df.groupby(\"BudgetRange (millions)\").mean()"
   ]
  },
  {
   "cell_type": "code",
   "execution_count": null,
   "metadata": {},
   "outputs": [],
   "source": [
    "#*******************************************************************************\n",
    "# Filter the DataFrame down only to the columns needed for the chart (index is \n",
    "# the Profit Range (millions))\n",
    "#*******************************************************************************\n",
    "financial_ave_df = financial_ave_df[[\"rating\"]]"
   ]
  },
  {
   "cell_type": "code",
   "execution_count": null,
   "metadata": {},
   "outputs": [],
   "source": [
    "#*******************************************************************************\n",
    "# Create a bar chart of the data\n",
    "#*******************************************************************************\n",
    "financial_ave_df.plot(kind=\"bar\", figsize=(8,4))\n",
    "\n",
    "#*******************************************************************************\n",
    "# Set a title, axis labels and clear the legend\n",
    "#*******************************************************************************\n",
    "plt.title(\"Average Rating by Budget\", y=1.05, fontsize=25)\n",
    "plt.xlabel(\"Budget (millions)\", y=1.05, fontsize=15)\n",
    "plt.ylabel(\"Average Rating\", fontsize=15)\n",
    "plt.legend(\"\")\n",
    "\n",
    "#*******************************************************************************\n",
    "# Set the upper and lower y values to make it easier to see the difference.\n",
    "#*******************************************************************************\n",
    "plt.ylim([3,3.3])\n",
    "\n",
    "#*******************************************************************************\n",
    "# Add the grid to the chart and display the chart\n",
    "#*******************************************************************************\n",
    "plt.grid()\n",
    "plt.show()"
   ]
  },
  {
   "cell_type": "code",
   "execution_count": null,
   "metadata": {},
   "outputs": [],
   "source": []
  },
  {
   "cell_type": "code",
   "execution_count": null,
   "metadata": {},
   "outputs": [],
   "source": []
  }
 ],
 "metadata": {
  "kernelspec": {
   "display_name": "Python 3",
   "language": "python",
   "name": "python3"
  },
  "language_info": {
   "codemirror_mode": {
    "name": "ipython",
    "version": 3
   },
   "file_extension": ".py",
   "mimetype": "text/x-python",
   "name": "python",
   "nbconvert_exporter": "python",
   "pygments_lexer": "ipython3",
   "version": "3.7.1"
  }
 },
 "nbformat": 4,
 "nbformat_minor": 2
}
