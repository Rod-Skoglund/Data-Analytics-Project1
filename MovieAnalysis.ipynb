{
 "cells": [
  {
   "cell_type": "code",
   "execution_count": 1,
   "metadata": {},
   "outputs": [
    {
     "name": "stdout",
     "output_type": "stream",
     "text": [
      "testing\n"
     ]
    }
   ],
   "source": [
    "#%matplotlib inline\n",
    "#*******************************************************************************\n",
    "# Dependencies and Setup\n",
    "#*******************************************************************************\n",
    "import matplotlib.pyplot as plt\n",
    "import pandas as pd\n",
    "import numpy as np\n",
    "#import json\n",
    "#from config import api_key\n",
    "\n",
    "#from pprint import pprint\n",
    "\n",
    "#*******************************************************************************\n",
    "# Load Data Files\n",
    "#*******************************************************************************\n",
    "movies_metadata_to_load = \"Movie_Datasets/movies_metadata.csv\"\n",
    "ratings_to_load = \"Movie_Datasets/ratings.csv\"\n",
    "\n",
    "print(\"testing\")\n"
   ]
  },
  {
   "cell_type": "code",
   "execution_count": 2,
   "metadata": {},
   "outputs": [
    {
     "name": "stdout",
     "output_type": "stream",
     "text": [
      "testing\n"
     ]
    }
   ],
   "source": [
    "\n",
    "#*******************************************************************************\n",
    "# Read the Movie Data from the file\n",
    "#*******************************************************************************\n",
    "movies_metadata_df = pd.read_csv(movies_metadata_to_load, low_memory=False)\n",
    "\n",
    "print(\"testing\")\n"
   ]
  },
  {
   "cell_type": "code",
   "execution_count": 3,
   "metadata": {},
   "outputs": [
    {
     "name": "stdout",
     "output_type": "stream",
     "text": [
      "testing\n"
     ]
    }
   ],
   "source": [
    "\n",
    "#*******************************************************************************\n",
    "# Read the Rating Data from the file\n",
    "#*******************************************************************************\n",
    "ratings_df = pd.read_csv(ratings_to_load)\n",
    "\n",
    "print(\"testing\")\n"
   ]
  },
  {
   "cell_type": "code",
   "execution_count": 4,
   "metadata": {},
   "outputs": [
    {
     "data": {
      "text/plain": [
       "0      862\n",
       "1     8844\n",
       "2    15602\n",
       "3    31357\n",
       "4    11862\n",
       "Name: id, dtype: object"
      ]
     },
     "execution_count": 4,
     "metadata": {},
     "output_type": "execute_result"
    }
   ],
   "source": [
    "movies_metadata_df[\"id\"].head()\n"
   ]
  },
  {
   "cell_type": "code",
   "execution_count": 5,
   "metadata": {},
   "outputs": [
    {
     "data": {
      "text/plain": [
       "(45466, 24)"
      ]
     },
     "execution_count": 5,
     "metadata": {},
     "output_type": "execute_result"
    }
   ],
   "source": [
    "movies_metadata_df.shape"
   ]
  },
  {
   "cell_type": "code",
   "execution_count": 6,
   "metadata": {},
   "outputs": [
    {
     "data": {
      "text/plain": [
       "0     110\n",
       "1     147\n",
       "2     858\n",
       "3    1221\n",
       "4    1246\n",
       "Name: movieId, dtype: int64"
      ]
     },
     "execution_count": 6,
     "metadata": {},
     "output_type": "execute_result"
    }
   ],
   "source": [
    "ratings_df[\"movieId\"].head()\n"
   ]
  },
  {
   "cell_type": "code",
   "execution_count": 7,
   "metadata": {
    "scrolled": false
   },
   "outputs": [],
   "source": [
    "# Convert the Age to a number\n",
    "#movies_metadata_df[movies_metadata_df.id.apply(lambda x: x.isnumeric())]\n",
    "#movies_metadata_df[\"id\"] = pd.to_numeric(movies_metadata_df[\"id\"])\n",
    "#movies_metadata_df[pd.to_numeric(movies_metadata_df['id'], errors='coerce').notnull()].head()\n",
    "num_movies_metadata_df = (movies_metadata_df.drop(\"id\", axis=1).join(movies_metadata_df[\"id\"].apply(pd.to_numeric, errors='coerce')))\n",
    "num_movies_metadata_df[\"id\"] = pd.to_numeric(num_movies_metadata_df[\"id\"])\n",
    "#movies_metadata_df[\"id\"].head()\n"
   ]
  },
  {
   "cell_type": "code",
   "execution_count": 8,
   "metadata": {},
   "outputs": [
    {
     "data": {
      "text/plain": [
       "(45466, 24)"
      ]
     },
     "execution_count": 8,
     "metadata": {},
     "output_type": "execute_result"
    }
   ],
   "source": [
    "num_movies_metadata_df.shape"
   ]
  },
  {
   "cell_type": "code",
   "execution_count": 9,
   "metadata": {},
   "outputs": [
    {
     "data": {
      "text/plain": [
       "0      862.0\n",
       "1     8844.0\n",
       "2    15602.0\n",
       "3    31357.0\n",
       "4    11862.0\n",
       "Name: id, dtype: float64"
      ]
     },
     "execution_count": 9,
     "metadata": {},
     "output_type": "execute_result"
    }
   ],
   "source": [
    "num_movies_metadata_df[\"id\"].head()\n"
   ]
  },
  {
   "cell_type": "code",
   "execution_count": 10,
   "metadata": {},
   "outputs": [
    {
     "data": {
      "text/plain": [
       "Index(['adult', 'belongs_to_collection', 'budget', 'genres', 'homepage',\n",
       "       'imdb_id', 'original_language', 'original_title', 'overview',\n",
       "       'popularity', 'poster_path', 'production_companies',\n",
       "       'production_countries', 'release_date', 'revenue', 'runtime',\n",
       "       'spoken_languages', 'status', 'tagline', 'title', 'video',\n",
       "       'vote_average', 'vote_count', 'id'],\n",
       "      dtype='object')"
      ]
     },
     "execution_count": 10,
     "metadata": {},
     "output_type": "execute_result"
    }
   ],
   "source": [
    "#movies_metadata_df.head(3)\n",
    "#print out the columns in the movies_metadata_df dataframe\n",
    "num_movies_metadata_df.columns"
   ]
  },
  {
   "cell_type": "code",
   "execution_count": 11,
   "metadata": {},
   "outputs": [
    {
     "data": {
      "text/html": [
       "<div>\n",
       "<style scoped>\n",
       "    .dataframe tbody tr th:only-of-type {\n",
       "        vertical-align: middle;\n",
       "    }\n",
       "\n",
       "    .dataframe tbody tr th {\n",
       "        vertical-align: top;\n",
       "    }\n",
       "\n",
       "    .dataframe thead th {\n",
       "        text-align: right;\n",
       "    }\n",
       "</style>\n",
       "<table border=\"1\" class=\"dataframe\">\n",
       "  <thead>\n",
       "    <tr style=\"text-align: right;\">\n",
       "      <th></th>\n",
       "      <th>userId</th>\n",
       "      <th>movieId</th>\n",
       "      <th>rating</th>\n",
       "      <th>timestamp</th>\n",
       "    </tr>\n",
       "  </thead>\n",
       "  <tbody>\n",
       "    <tr>\n",
       "      <th>0</th>\n",
       "      <td>1</td>\n",
       "      <td>110</td>\n",
       "      <td>1.0</td>\n",
       "      <td>1425941529</td>\n",
       "    </tr>\n",
       "    <tr>\n",
       "      <th>1</th>\n",
       "      <td>1</td>\n",
       "      <td>147</td>\n",
       "      <td>4.5</td>\n",
       "      <td>1425942435</td>\n",
       "    </tr>\n",
       "    <tr>\n",
       "      <th>2</th>\n",
       "      <td>1</td>\n",
       "      <td>858</td>\n",
       "      <td>5.0</td>\n",
       "      <td>1425941523</td>\n",
       "    </tr>\n",
       "    <tr>\n",
       "      <th>3</th>\n",
       "      <td>1</td>\n",
       "      <td>1221</td>\n",
       "      <td>5.0</td>\n",
       "      <td>1425941546</td>\n",
       "    </tr>\n",
       "    <tr>\n",
       "      <th>4</th>\n",
       "      <td>1</td>\n",
       "      <td>1246</td>\n",
       "      <td>5.0</td>\n",
       "      <td>1425941556</td>\n",
       "    </tr>\n",
       "  </tbody>\n",
       "</table>\n",
       "</div>"
      ],
      "text/plain": [
       "   userId  movieId  rating   timestamp\n",
       "0       1      110     1.0  1425941529\n",
       "1       1      147     4.5  1425942435\n",
       "2       1      858     5.0  1425941523\n",
       "3       1     1221     5.0  1425941546\n",
       "4       1     1246     5.0  1425941556"
      ]
     },
     "execution_count": 11,
     "metadata": {},
     "output_type": "execute_result"
    }
   ],
   "source": [
    "#print first a few of the rows from the ratings_df dataframe\n",
    "ratings_df.head()"
   ]
  },
  {
   "cell_type": "code",
   "execution_count": 12,
   "metadata": {},
   "outputs": [
    {
     "data": {
      "text/html": [
       "<div>\n",
       "<style scoped>\n",
       "    .dataframe tbody tr th:only-of-type {\n",
       "        vertical-align: middle;\n",
       "    }\n",
       "\n",
       "    .dataframe tbody tr th {\n",
       "        vertical-align: top;\n",
       "    }\n",
       "\n",
       "    .dataframe thead th {\n",
       "        text-align: right;\n",
       "    }\n",
       "</style>\n",
       "<table border=\"1\" class=\"dataframe\">\n",
       "  <thead>\n",
       "    <tr style=\"text-align: right;\">\n",
       "      <th></th>\n",
       "      <th>userId</th>\n",
       "      <th>rating</th>\n",
       "      <th>timestamp</th>\n",
       "    </tr>\n",
       "    <tr>\n",
       "      <th>movieId</th>\n",
       "      <th></th>\n",
       "      <th></th>\n",
       "      <th></th>\n",
       "    </tr>\n",
       "  </thead>\n",
       "  <tbody>\n",
       "    <tr>\n",
       "      <th>1</th>\n",
       "      <td>135121.043616</td>\n",
       "      <td>3.888157</td>\n",
       "      <td>1.113440e+09</td>\n",
       "    </tr>\n",
       "    <tr>\n",
       "      <th>2</th>\n",
       "      <td>134877.953761</td>\n",
       "      <td>3.236953</td>\n",
       "      <td>1.088621e+09</td>\n",
       "    </tr>\n",
       "    <tr>\n",
       "      <th>3</th>\n",
       "      <td>136520.452733</td>\n",
       "      <td>3.175550</td>\n",
       "      <td>9.661124e+08</td>\n",
       "    </tr>\n",
       "    <tr>\n",
       "      <th>4</th>\n",
       "      <td>136249.536062</td>\n",
       "      <td>2.875713</td>\n",
       "      <td>9.390243e+08</td>\n",
       "    </tr>\n",
       "    <tr>\n",
       "      <th>5</th>\n",
       "      <td>135293.275855</td>\n",
       "      <td>3.079565</td>\n",
       "      <td>9.896788e+08</td>\n",
       "    </tr>\n",
       "  </tbody>\n",
       "</table>\n",
       "</div>"
      ],
      "text/plain": [
       "                userId    rating     timestamp\n",
       "movieId                                       \n",
       "1        135121.043616  3.888157  1.113440e+09\n",
       "2        134877.953761  3.236953  1.088621e+09\n",
       "3        136520.452733  3.175550  9.661124e+08\n",
       "4        136249.536062  2.875713  9.390243e+08\n",
       "5        135293.275855  3.079565  9.896788e+08"
      ]
     },
     "execution_count": 12,
     "metadata": {},
     "output_type": "execute_result"
    }
   ],
   "source": [
    "# Group the movie rating data by movie and average the ratings provided by the individual users.\n",
    "ave_movie_rating = ratings_df.groupby([\"movieId\"]).mean()\n",
    "ave_movie_rating.head()\n"
   ]
  },
  {
   "cell_type": "code",
   "execution_count": 13,
   "metadata": {},
   "outputs": [
    {
     "name": "stdout",
     "output_type": "stream",
     "text": [
      "There are 45115 movies included in this dataset.\n"
     ]
    }
   ],
   "source": [
    "print(f\"There are {ave_movie_rating.shape[0]} movies included in this dataset.\")\n"
   ]
  },
  {
   "cell_type": "code",
   "execution_count": 14,
   "metadata": {},
   "outputs": [
    {
     "data": {
      "text/plain": [
       "Index(['adult', 'belongs_to_collection', 'budget', 'genres', 'homepage',\n",
       "       'imdb_id', 'original_language', 'original_title', 'overview',\n",
       "       'popularity', 'poster_path', 'production_companies',\n",
       "       'production_countries', 'release_date', 'revenue', 'runtime',\n",
       "       'spoken_languages', 'status', 'tagline', 'title', 'video',\n",
       "       'vote_average', 'vote_count', 'movieId'],\n",
       "      dtype='object')"
      ]
     },
     "execution_count": 14,
     "metadata": {},
     "output_type": "execute_result"
    }
   ],
   "source": [
    "renamed_movies_metadata_df = num_movies_metadata_df.rename(columns={\"id\":\"movieId\"})\n",
    "renamed_movies_metadata_df.columns"
   ]
  },
  {
   "cell_type": "code",
   "execution_count": 15,
   "metadata": {},
   "outputs": [
    {
     "data": {
      "text/plain": [
       "count     45463.000000\n",
       "mean     108359.918813\n",
       "std      112460.749278\n",
       "min           2.000000\n",
       "25%       26449.500000\n",
       "50%       60003.000000\n",
       "75%      157328.000000\n",
       "max      469172.000000\n",
       "Name: movieId, dtype: float64"
      ]
     },
     "execution_count": 15,
     "metadata": {},
     "output_type": "execute_result"
    }
   ],
   "source": [
    "renamed_movies_metadata_df[\"movieId\"].describe()\n"
   ]
  },
  {
   "cell_type": "code",
   "execution_count": 16,
   "metadata": {},
   "outputs": [
    {
     "data": {
      "text/html": [
       "<div>\n",
       "<style scoped>\n",
       "    .dataframe tbody tr th:only-of-type {\n",
       "        vertical-align: middle;\n",
       "    }\n",
       "\n",
       "    .dataframe tbody tr th {\n",
       "        vertical-align: top;\n",
       "    }\n",
       "\n",
       "    .dataframe thead th {\n",
       "        text-align: right;\n",
       "    }\n",
       "</style>\n",
       "<table border=\"1\" class=\"dataframe\">\n",
       "  <thead>\n",
       "    <tr style=\"text-align: right;\">\n",
       "      <th></th>\n",
       "      <th>userId</th>\n",
       "      <th>rating</th>\n",
       "      <th>timestamp</th>\n",
       "    </tr>\n",
       "    <tr>\n",
       "      <th>movieId</th>\n",
       "      <th></th>\n",
       "      <th></th>\n",
       "      <th></th>\n",
       "    </tr>\n",
       "  </thead>\n",
       "  <tbody>\n",
       "    <tr>\n",
       "      <th>1</th>\n",
       "      <td>135121.043616</td>\n",
       "      <td>3.888157</td>\n",
       "      <td>1.113440e+09</td>\n",
       "    </tr>\n",
       "    <tr>\n",
       "      <th>2</th>\n",
       "      <td>134877.953761</td>\n",
       "      <td>3.236953</td>\n",
       "      <td>1.088621e+09</td>\n",
       "    </tr>\n",
       "    <tr>\n",
       "      <th>3</th>\n",
       "      <td>136520.452733</td>\n",
       "      <td>3.175550</td>\n",
       "      <td>9.661124e+08</td>\n",
       "    </tr>\n",
       "    <tr>\n",
       "      <th>4</th>\n",
       "      <td>136249.536062</td>\n",
       "      <td>2.875713</td>\n",
       "      <td>9.390243e+08</td>\n",
       "    </tr>\n",
       "    <tr>\n",
       "      <th>5</th>\n",
       "      <td>135293.275855</td>\n",
       "      <td>3.079565</td>\n",
       "      <td>9.896788e+08</td>\n",
       "    </tr>\n",
       "  </tbody>\n",
       "</table>\n",
       "</div>"
      ],
      "text/plain": [
       "                userId    rating     timestamp\n",
       "movieId                                       \n",
       "1        135121.043616  3.888157  1.113440e+09\n",
       "2        134877.953761  3.236953  1.088621e+09\n",
       "3        136520.452733  3.175550  9.661124e+08\n",
       "4        136249.536062  2.875713  9.390243e+08\n",
       "5        135293.275855  3.079565  9.896788e+08"
      ]
     },
     "execution_count": 16,
     "metadata": {},
     "output_type": "execute_result"
    }
   ],
   "source": [
    "ave_movie_rating.head()\n"
   ]
  },
  {
   "cell_type": "code",
   "execution_count": 17,
   "metadata": {},
   "outputs": [
    {
     "data": {
      "text/html": [
       "<div>\n",
       "<style scoped>\n",
       "    .dataframe tbody tr th:only-of-type {\n",
       "        vertical-align: middle;\n",
       "    }\n",
       "\n",
       "    .dataframe tbody tr th {\n",
       "        vertical-align: top;\n",
       "    }\n",
       "\n",
       "    .dataframe thead th {\n",
       "        text-align: right;\n",
       "    }\n",
       "</style>\n",
       "<table border=\"1\" class=\"dataframe\">\n",
       "  <thead>\n",
       "    <tr style=\"text-align: right;\">\n",
       "      <th></th>\n",
       "      <th>adult</th>\n",
       "      <th>belongs_to_collection</th>\n",
       "      <th>budget</th>\n",
       "      <th>genres</th>\n",
       "      <th>homepage</th>\n",
       "      <th>imdb_id</th>\n",
       "      <th>original_language</th>\n",
       "      <th>original_title</th>\n",
       "      <th>overview</th>\n",
       "      <th>popularity</th>\n",
       "      <th>...</th>\n",
       "      <th>status</th>\n",
       "      <th>tagline</th>\n",
       "      <th>title</th>\n",
       "      <th>video</th>\n",
       "      <th>vote_average</th>\n",
       "      <th>vote_count</th>\n",
       "      <th>movieId</th>\n",
       "      <th>userId</th>\n",
       "      <th>rating</th>\n",
       "      <th>timestamp</th>\n",
       "    </tr>\n",
       "  </thead>\n",
       "  <tbody>\n",
       "    <tr>\n",
       "      <th>0</th>\n",
       "      <td>False</td>\n",
       "      <td>{'id': 10194, 'name': 'Toy Story Collection', ...</td>\n",
       "      <td>30000000</td>\n",
       "      <td>[{'id': 16, 'name': 'Animation'}, {'id': 35, '...</td>\n",
       "      <td>http://toystory.disney.com/toy-story</td>\n",
       "      <td>tt0114709</td>\n",
       "      <td>en</td>\n",
       "      <td>Toy Story</td>\n",
       "      <td>Led by Woody, Andy's toys live happily in his ...</td>\n",
       "      <td>21.946943</td>\n",
       "      <td>...</td>\n",
       "      <td>Released</td>\n",
       "      <td>NaN</td>\n",
       "      <td>Toy Story</td>\n",
       "      <td>False</td>\n",
       "      <td>7.7</td>\n",
       "      <td>5415.0</td>\n",
       "      <td>862.0</td>\n",
       "      <td>133828.86631</td>\n",
       "      <td>3.598930</td>\n",
       "      <td>9.727758e+08</td>\n",
       "    </tr>\n",
       "    <tr>\n",
       "      <th>1</th>\n",
       "      <td>False</td>\n",
       "      <td>NaN</td>\n",
       "      <td>65000000</td>\n",
       "      <td>[{'id': 12, 'name': 'Adventure'}, {'id': 14, '...</td>\n",
       "      <td>NaN</td>\n",
       "      <td>tt0113497</td>\n",
       "      <td>en</td>\n",
       "      <td>Jumanji</td>\n",
       "      <td>When siblings Judy and Peter discover an encha...</td>\n",
       "      <td>17.015539</td>\n",
       "      <td>...</td>\n",
       "      <td>Released</td>\n",
       "      <td>Roll the dice and unleash the excitement!</td>\n",
       "      <td>Jumanji</td>\n",
       "      <td>False</td>\n",
       "      <td>6.9</td>\n",
       "      <td>2413.0</td>\n",
       "      <td>8844.0</td>\n",
       "      <td>138698.00813</td>\n",
       "      <td>3.760163</td>\n",
       "      <td>1.268060e+09</td>\n",
       "    </tr>\n",
       "  </tbody>\n",
       "</table>\n",
       "<p>2 rows × 27 columns</p>\n",
       "</div>"
      ],
      "text/plain": [
       "   adult                              belongs_to_collection    budget  \\\n",
       "0  False  {'id': 10194, 'name': 'Toy Story Collection', ...  30000000   \n",
       "1  False                                                NaN  65000000   \n",
       "\n",
       "                                              genres  \\\n",
       "0  [{'id': 16, 'name': 'Animation'}, {'id': 35, '...   \n",
       "1  [{'id': 12, 'name': 'Adventure'}, {'id': 14, '...   \n",
       "\n",
       "                               homepage    imdb_id original_language  \\\n",
       "0  http://toystory.disney.com/toy-story  tt0114709                en   \n",
       "1                                   NaN  tt0113497                en   \n",
       "\n",
       "  original_title                                           overview  \\\n",
       "0      Toy Story  Led by Woody, Andy's toys live happily in his ...   \n",
       "1        Jumanji  When siblings Judy and Peter discover an encha...   \n",
       "\n",
       "  popularity      ...         status  \\\n",
       "0  21.946943      ...       Released   \n",
       "1  17.015539      ...       Released   \n",
       "\n",
       "                                     tagline      title  video  vote_average  \\\n",
       "0                                        NaN  Toy Story  False           7.7   \n",
       "1  Roll the dice and unleash the excitement!    Jumanji  False           6.9   \n",
       "\n",
       "   vote_count movieId        userId    rating     timestamp  \n",
       "0      5415.0   862.0  133828.86631  3.598930  9.727758e+08  \n",
       "1      2413.0  8844.0  138698.00813  3.760163  1.268060e+09  \n",
       "\n",
       "[2 rows x 27 columns]"
      ]
     },
     "execution_count": 17,
     "metadata": {},
     "output_type": "execute_result"
    }
   ],
   "source": [
    "merge_table = pd.merge(renamed_movies_metadata_df, ave_movie_rating, on=\"movieId\")\n",
    "merge_table.head(2)"
   ]
  },
  {
   "cell_type": "code",
   "execution_count": 18,
   "metadata": {},
   "outputs": [
    {
     "data": {
      "text/plain": [
       "Index(['adult', 'belongs_to_collection', 'budget', 'genres', 'homepage',\n",
       "       'imdb_id', 'original_language', 'original_title', 'overview',\n",
       "       'popularity', 'poster_path', 'production_companies',\n",
       "       'production_countries', 'release_date', 'revenue', 'runtime',\n",
       "       'spoken_languages', 'status', 'tagline', 'title', 'video',\n",
       "       'vote_average', 'vote_count', 'movieId', 'userId', 'rating',\n",
       "       'timestamp'],\n",
       "      dtype='object')"
      ]
     },
     "execution_count": 18,
     "metadata": {},
     "output_type": "execute_result"
    }
   ],
   "source": [
    "merge_table.columns"
   ]
  },
  {
   "cell_type": "code",
   "execution_count": 19,
   "metadata": {},
   "outputs": [],
   "source": [
    "trimmed_merge_table = merge_table[[\"budget\", \"genres\", \"imdb_id\", \"production_countries\", \"release_date\", \"runtime\", \n",
    "                                   \"revenue\", \"title\", \"vote_average\", \"vote_count\", \"movieId\", \"rating\", \"popularity\"]]"
   ]
  },
  {
   "cell_type": "code",
   "execution_count": 20,
   "metadata": {},
   "outputs": [
    {
     "data": {
      "text/plain": [
       "budget                  7569\n",
       "genres                  7569\n",
       "imdb_id                 7567\n",
       "production_countries    7569\n",
       "release_date            7561\n",
       "runtime                 7550\n",
       "revenue                 7569\n",
       "title                   7569\n",
       "vote_average            7569\n",
       "vote_count              7569\n",
       "movieId                 7569\n",
       "rating                  7569\n",
       "popularity              7569\n",
       "dtype: int64"
      ]
     },
     "execution_count": 20,
     "metadata": {},
     "output_type": "execute_result"
    }
   ],
   "source": [
    "trimmed_merge_table.count()"
   ]
  },
  {
   "cell_type": "code",
   "execution_count": 21,
   "metadata": {},
   "outputs": [],
   "source": [
    "trimmed_merge_table = trimmed_merge_table.dropna(how='any')"
   ]
  },
  {
   "cell_type": "code",
   "execution_count": 22,
   "metadata": {},
   "outputs": [
    {
     "data": {
      "text/plain": [
       "budget                  7542\n",
       "genres                  7542\n",
       "imdb_id                 7542\n",
       "production_countries    7542\n",
       "release_date            7542\n",
       "runtime                 7542\n",
       "revenue                 7542\n",
       "title                   7542\n",
       "vote_average            7542\n",
       "vote_count              7542\n",
       "movieId                 7542\n",
       "rating                  7542\n",
       "popularity              7542\n",
       "dtype: int64"
      ]
     },
     "execution_count": 22,
     "metadata": {},
     "output_type": "execute_result"
    }
   ],
   "source": [
    "trimmed_merge_table.count()"
   ]
  },
  {
   "cell_type": "code",
   "execution_count": 23,
   "metadata": {},
   "outputs": [
    {
     "data": {
      "text/html": [
       "<div>\n",
       "<style scoped>\n",
       "    .dataframe tbody tr th:only-of-type {\n",
       "        vertical-align: middle;\n",
       "    }\n",
       "\n",
       "    .dataframe tbody tr th {\n",
       "        vertical-align: top;\n",
       "    }\n",
       "\n",
       "    .dataframe thead th {\n",
       "        text-align: right;\n",
       "    }\n",
       "</style>\n",
       "<table border=\"1\" class=\"dataframe\">\n",
       "  <thead>\n",
       "    <tr style=\"text-align: right;\">\n",
       "      <th></th>\n",
       "      <th>budget</th>\n",
       "      <th>genres</th>\n",
       "      <th>imdb_id</th>\n",
       "      <th>production_countries</th>\n",
       "      <th>release_date</th>\n",
       "      <th>runtime</th>\n",
       "      <th>revenue</th>\n",
       "      <th>title</th>\n",
       "      <th>vote_average</th>\n",
       "      <th>vote_count</th>\n",
       "      <th>movieId</th>\n",
       "      <th>rating</th>\n",
       "      <th>popularity</th>\n",
       "    </tr>\n",
       "  </thead>\n",
       "  <tbody>\n",
       "    <tr>\n",
       "      <th>0</th>\n",
       "      <td>30000000</td>\n",
       "      <td>[{'id': 16, 'name': 'Animation'}, {'id': 35, '...</td>\n",
       "      <td>tt0114709</td>\n",
       "      <td>[{'iso_3166_1': 'US', 'name': 'United States o...</td>\n",
       "      <td>1995-10-30</td>\n",
       "      <td>81.0</td>\n",
       "      <td>373554033.0</td>\n",
       "      <td>Toy Story</td>\n",
       "      <td>7.7</td>\n",
       "      <td>5415.0</td>\n",
       "      <td>862.0</td>\n",
       "      <td>3.598930</td>\n",
       "      <td>21.946943</td>\n",
       "    </tr>\n",
       "    <tr>\n",
       "      <th>1</th>\n",
       "      <td>65000000</td>\n",
       "      <td>[{'id': 12, 'name': 'Adventure'}, {'id': 14, '...</td>\n",
       "      <td>tt0113497</td>\n",
       "      <td>[{'iso_3166_1': 'US', 'name': 'United States o...</td>\n",
       "      <td>1995-12-15</td>\n",
       "      <td>104.0</td>\n",
       "      <td>262797249.0</td>\n",
       "      <td>Jumanji</td>\n",
       "      <td>6.9</td>\n",
       "      <td>2413.0</td>\n",
       "      <td>8844.0</td>\n",
       "      <td>3.760163</td>\n",
       "      <td>17.015539</td>\n",
       "    </tr>\n",
       "    <tr>\n",
       "      <th>2</th>\n",
       "      <td>60000000</td>\n",
       "      <td>[{'id': 28, 'name': 'Action'}, {'id': 80, 'nam...</td>\n",
       "      <td>tt0113277</td>\n",
       "      <td>[{'iso_3166_1': 'US', 'name': 'United States o...</td>\n",
       "      <td>1995-12-15</td>\n",
       "      <td>170.0</td>\n",
       "      <td>187436818.0</td>\n",
       "      <td>Heat</td>\n",
       "      <td>7.7</td>\n",
       "      <td>1886.0</td>\n",
       "      <td>949.0</td>\n",
       "      <td>3.905544</td>\n",
       "      <td>17.924927</td>\n",
       "    </tr>\n",
       "    <tr>\n",
       "      <th>3</th>\n",
       "      <td>58000000</td>\n",
       "      <td>[{'id': 12, 'name': 'Adventure'}, {'id': 28, '...</td>\n",
       "      <td>tt0113189</td>\n",
       "      <td>[{'iso_3166_1': 'GB', 'name': 'United Kingdom'...</td>\n",
       "      <td>1995-11-16</td>\n",
       "      <td>130.0</td>\n",
       "      <td>352194034.0</td>\n",
       "      <td>GoldenEye</td>\n",
       "      <td>6.6</td>\n",
       "      <td>1194.0</td>\n",
       "      <td>710.0</td>\n",
       "      <td>2.740334</td>\n",
       "      <td>14.686036</td>\n",
       "    </tr>\n",
       "    <tr>\n",
       "      <th>4</th>\n",
       "      <td>98000000</td>\n",
       "      <td>[{'id': 28, 'name': 'Action'}, {'id': 12, 'nam...</td>\n",
       "      <td>tt0112760</td>\n",
       "      <td>[{'iso_3166_1': 'FR', 'name': 'France'}, {'iso...</td>\n",
       "      <td>1995-12-22</td>\n",
       "      <td>119.0</td>\n",
       "      <td>10017322.0</td>\n",
       "      <td>Cutthroat Island</td>\n",
       "      <td>5.7</td>\n",
       "      <td>137.0</td>\n",
       "      <td>1408.0</td>\n",
       "      <td>3.710181</td>\n",
       "      <td>7.284477</td>\n",
       "    </tr>\n",
       "  </tbody>\n",
       "</table>\n",
       "</div>"
      ],
      "text/plain": [
       "     budget                                             genres    imdb_id  \\\n",
       "0  30000000  [{'id': 16, 'name': 'Animation'}, {'id': 35, '...  tt0114709   \n",
       "1  65000000  [{'id': 12, 'name': 'Adventure'}, {'id': 14, '...  tt0113497   \n",
       "2  60000000  [{'id': 28, 'name': 'Action'}, {'id': 80, 'nam...  tt0113277   \n",
       "3  58000000  [{'id': 12, 'name': 'Adventure'}, {'id': 28, '...  tt0113189   \n",
       "4  98000000  [{'id': 28, 'name': 'Action'}, {'id': 12, 'nam...  tt0112760   \n",
       "\n",
       "                                production_countries release_date  runtime  \\\n",
       "0  [{'iso_3166_1': 'US', 'name': 'United States o...   1995-10-30     81.0   \n",
       "1  [{'iso_3166_1': 'US', 'name': 'United States o...   1995-12-15    104.0   \n",
       "2  [{'iso_3166_1': 'US', 'name': 'United States o...   1995-12-15    170.0   \n",
       "3  [{'iso_3166_1': 'GB', 'name': 'United Kingdom'...   1995-11-16    130.0   \n",
       "4  [{'iso_3166_1': 'FR', 'name': 'France'}, {'iso...   1995-12-22    119.0   \n",
       "\n",
       "       revenue             title  vote_average  vote_count  movieId    rating  \\\n",
       "0  373554033.0         Toy Story           7.7      5415.0    862.0  3.598930   \n",
       "1  262797249.0           Jumanji           6.9      2413.0   8844.0  3.760163   \n",
       "2  187436818.0              Heat           7.7      1886.0    949.0  3.905544   \n",
       "3  352194034.0         GoldenEye           6.6      1194.0    710.0  2.740334   \n",
       "4   10017322.0  Cutthroat Island           5.7       137.0   1408.0  3.710181   \n",
       "\n",
       "  popularity  \n",
       "0  21.946943  \n",
       "1  17.015539  \n",
       "2  17.924927  \n",
       "3  14.686036  \n",
       "4   7.284477  "
      ]
     },
     "execution_count": 23,
     "metadata": {},
     "output_type": "execute_result"
    }
   ],
   "source": [
    "trimmed_merge_table.head()"
   ]
  },
  {
   "cell_type": "code",
   "execution_count": 24,
   "metadata": {},
   "outputs": [
    {
     "data": {
      "text/plain": [
       "'96.272374'"
      ]
     },
     "execution_count": 24,
     "metadata": {},
     "output_type": "execute_result"
    }
   ],
   "source": [
    "trimmed_merge_table[\"popularity\"].max()"
   ]
  },
  {
   "cell_type": "code",
   "execution_count": null,
   "metadata": {},
   "outputs": [],
   "source": []
  },
  {
   "cell_type": "code",
   "execution_count": 25,
   "metadata": {},
   "outputs": [
    {
     "name": "stdout",
     "output_type": "stream",
     "text": [
      "There are 7542 movies included in this reduced dataset.\n"
     ]
    }
   ],
   "source": [
    "total_num_movies = trimmed_merge_table.shape[0]\n",
    "print(f\"There are {total_num_movies} movies included in this reduced dataset.\")"
   ]
  },
  {
   "cell_type": "code",
   "execution_count": 26,
   "metadata": {},
   "outputs": [
    {
     "name": "stdout",
     "output_type": "stream",
     "text": [
      "There are 7542 successful movies with average ratings greater than 0\n",
      "The percentage of successful movies is 100.00%\n"
     ]
    }
   ],
   "source": [
    "rating_success = 0\n",
    "\n",
    "successful_movies_df = trimmed_merge_table.loc[trimmed_merge_table[\"rating\"] >= rating_success, :]\n",
    "print(f\"There are {successful_movies_df.shape[0]} successful movies with average ratings greater than {rating_success}\")\n",
    "percentage_successful_movies = (successful_movies_df.shape[0]/total_num_movies) * 100\n",
    "#formatted_successful_movies = percentage_successful_movies.map(\"{:.2f}%\".format)\n",
    "#formatted_successful_movies = str(percentage_successful_movies)\n",
    "formatted_successful_movies = \"{:.2f}%\".format(float(percentage_successful_movies))\n",
    "\n",
    "print(f\"The percentage of successful movies is {formatted_successful_movies}\")\n",
    "#print(percentage_successful_movies)"
   ]
  },
  {
   "cell_type": "code",
   "execution_count": 27,
   "metadata": {},
   "outputs": [
    {
     "name": "stdout",
     "output_type": "stream",
     "text": [
      "100.00%\n"
     ]
    }
   ],
   "source": [
    "formatted_successful_movies = \"{:.2f}%\".format(float(percentage_successful_movies))\n",
    "print(formatted_successful_movies)"
   ]
  },
  {
   "cell_type": "code",
   "execution_count": 28,
   "metadata": {},
   "outputs": [
    {
     "data": {
      "text/plain": [
       "(7542, 13)"
      ]
     },
     "execution_count": 28,
     "metadata": {},
     "output_type": "execute_result"
    }
   ],
   "source": [
    "#successful_movies_df[\"runtime\"] = pd.to_numeric(successful_movies_df[\"runtime\"])\n",
    "trimmed_runtime_movies_df = successful_movies_df.loc[successful_movies_df[\"runtime\"] < 900, :]\n",
    "trimmed_runtime_movies_df.shape\n"
   ]
  },
  {
   "cell_type": "code",
   "execution_count": 29,
   "metadata": {},
   "outputs": [],
   "source": [
    "# Create the bins in which Data will be held\n",
    "# Bins are 0, 60, 70, 80, 90, 100\n",
    "#bins = [0, 50, 100, 150, 200, 250, 900]\n",
    "bins = [0, 60, 120, 180, 900]\n",
    "\n",
    "# Create the names for the four bins\n",
    "#group_names = [\"Xshort\", \"short\", \"med\", \"long\", \"Xlong\", \"XXlong\" ]\n",
    "group_names = [\"< 1 Hrs\", \"1-2 Hrs\", \"2-3 Hrs\", \"> 3 Hrs\" ]\n"
   ]
  },
  {
   "cell_type": "code",
   "execution_count": 30,
   "metadata": {},
   "outputs": [
    {
     "data": {
      "text/html": [
       "<div>\n",
       "<style scoped>\n",
       "    .dataframe tbody tr th:only-of-type {\n",
       "        vertical-align: middle;\n",
       "    }\n",
       "\n",
       "    .dataframe tbody tr th {\n",
       "        vertical-align: top;\n",
       "    }\n",
       "\n",
       "    .dataframe thead th {\n",
       "        text-align: right;\n",
       "    }\n",
       "</style>\n",
       "<table border=\"1\" class=\"dataframe\">\n",
       "  <thead>\n",
       "    <tr style=\"text-align: right;\">\n",
       "      <th></th>\n",
       "      <th>budget</th>\n",
       "      <th>genres</th>\n",
       "      <th>imdb_id</th>\n",
       "      <th>production_countries</th>\n",
       "      <th>release_date</th>\n",
       "      <th>runtime</th>\n",
       "      <th>revenue</th>\n",
       "      <th>title</th>\n",
       "      <th>vote_average</th>\n",
       "      <th>vote_count</th>\n",
       "      <th>movieId</th>\n",
       "      <th>rating</th>\n",
       "      <th>popularity</th>\n",
       "      <th>Runtime Breakdown</th>\n",
       "    </tr>\n",
       "  </thead>\n",
       "  <tbody>\n",
       "    <tr>\n",
       "      <th>0</th>\n",
       "      <td>30000000</td>\n",
       "      <td>[{'id': 16, 'name': 'Animation'}, {'id': 35, '...</td>\n",
       "      <td>tt0114709</td>\n",
       "      <td>[{'iso_3166_1': 'US', 'name': 'United States o...</td>\n",
       "      <td>1995-10-30</td>\n",
       "      <td>81.0</td>\n",
       "      <td>373554033.0</td>\n",
       "      <td>Toy Story</td>\n",
       "      <td>7.7</td>\n",
       "      <td>5415.0</td>\n",
       "      <td>862.0</td>\n",
       "      <td>3.59893</td>\n",
       "      <td>21.946943</td>\n",
       "      <td>1-2 Hrs</td>\n",
       "    </tr>\n",
       "  </tbody>\n",
       "</table>\n",
       "</div>"
      ],
      "text/plain": [
       "     budget                                             genres    imdb_id  \\\n",
       "0  30000000  [{'id': 16, 'name': 'Animation'}, {'id': 35, '...  tt0114709   \n",
       "\n",
       "                                production_countries release_date  runtime  \\\n",
       "0  [{'iso_3166_1': 'US', 'name': 'United States o...   1995-10-30     81.0   \n",
       "\n",
       "       revenue      title  vote_average  vote_count  movieId   rating  \\\n",
       "0  373554033.0  Toy Story           7.7      5415.0    862.0  3.59893   \n",
       "\n",
       "  popularity Runtime Breakdown  \n",
       "0  21.946943           1-2 Hrs  "
      ]
     },
     "execution_count": 30,
     "metadata": {},
     "output_type": "execute_result"
    }
   ],
   "source": [
    "trimmed_runtime_movies_df[\"Runtime Breakdown\"] = pd.cut(trimmed_runtime_movies_df[\"runtime\"], bins, labels=group_names)\n",
    "trimmed_runtime_movies_df.head(1)"
   ]
  },
  {
   "cell_type": "code",
   "execution_count": 31,
   "metadata": {},
   "outputs": [
    {
     "data": {
      "text/plain": [
       "Runtime Breakdown\n",
       "< 1 Hrs     362\n",
       "1-2 Hrs    5875\n",
       "2-3 Hrs    1029\n",
       "> 3 Hrs     109\n",
       "Name: runtime, dtype: int64"
      ]
     },
     "execution_count": 31,
     "metadata": {},
     "output_type": "execute_result"
    }
   ],
   "source": [
    "ratings_runtime_count_df = trimmed_runtime_movies_df[[\"rating\", \"runtime\", \"Runtime Breakdown\"]]\n",
    "ratings_runtime_count_df = ratings_runtime_count_df.groupby(\"Runtime Breakdown\")\n",
    "ratings_runtime_count_df.count()[\"runtime\"]"
   ]
  },
  {
   "cell_type": "code",
   "execution_count": 32,
   "metadata": {
    "scrolled": true
   },
   "outputs": [
    {
     "data": {
      "image/png": "[encoded data removed]",
      "text/plain": [
       "<Figure size 432x288 with 1 Axes>"
      ]
     },
     "metadata": {},
     "output_type": "display_data"
    }
   ],
   "source": [
    "#*******************************************************************************\n",
    "# Define appearance for the pie chart\n",
    "#*******************************************************************************\n",
    "#        [Xshort, short,         med,          long,  Xlong,    XXlong]\n",
    "#colors = [\"gold\",\"lightskyblue\", \"lightcoral\", \"blue\",\"orange\", \"red\"]\n",
    "colors = [\"lightgreen\",\"lightblue\", \"gold\", \"greenyellow\"]\n",
    "explode = (0.15,0.15,0.15,0.15)\n",
    "\n",
    "#*******************************************************************************\n",
    "# Define the title for the pie chart\n",
    "#*******************************************************************************\n",
    "plt.title(\"% of Movies by Runtime\", y=1.25, fontsize=15)\n",
    "\n",
    "#*******************************************************************************\n",
    "# Define pie chart\n",
    "#*******************************************************************************\n",
    "plt.pie(ratings_runtime_count_df.count()[\"runtime\"], explode=explode, \n",
    "        labels=group_names, colors=colors, autopct=\"%1.1f%%\", shadow=True, \n",
    "        startangle=10, radius=1.75)\n",
    "\n",
    "#*******************************************************************************\n",
    "# Show Figure\n",
    "#*******************************************************************************\n",
    "#plt.tight_layout()\n",
    "plt.show()"
   ]
  },
  {
   "cell_type": "code",
   "execution_count": 33,
   "metadata": {},
   "outputs": [],
   "source": [
    "# Bar chart of average rating / runtime"
   ]
  },
  {
   "cell_type": "code",
   "execution_count": 34,
   "metadata": {},
   "outputs": [
    {
     "data": {
      "text/html": [
       "<div>\n",
       "<style scoped>\n",
       "    .dataframe tbody tr th:only-of-type {\n",
       "        vertical-align: middle;\n",
       "    }\n",
       "\n",
       "    .dataframe tbody tr th {\n",
       "        vertical-align: top;\n",
       "    }\n",
       "\n",
       "    .dataframe thead th {\n",
       "        text-align: right;\n",
       "    }\n",
       "</style>\n",
       "<table border=\"1\" class=\"dataframe\">\n",
       "  <thead>\n",
       "    <tr style=\"text-align: right;\">\n",
       "      <th></th>\n",
       "      <th>rating</th>\n",
       "      <th>runtime</th>\n",
       "    </tr>\n",
       "    <tr>\n",
       "      <th>Runtime Breakdown</th>\n",
       "      <th></th>\n",
       "      <th></th>\n",
       "    </tr>\n",
       "  </thead>\n",
       "  <tbody>\n",
       "    <tr>\n",
       "      <th>&lt; 1 Hrs</th>\n",
       "      <td>3.100157</td>\n",
       "      <td>32.638122</td>\n",
       "    </tr>\n",
       "    <tr>\n",
       "      <th>1-2 Hrs</th>\n",
       "      <td>3.125094</td>\n",
       "      <td>95.906383</td>\n",
       "    </tr>\n",
       "    <tr>\n",
       "      <th>2-3 Hrs</th>\n",
       "      <td>3.150833</td>\n",
       "      <td>137.213800</td>\n",
       "    </tr>\n",
       "    <tr>\n",
       "      <th>&gt; 3 Hrs</th>\n",
       "      <td>3.184412</td>\n",
       "      <td>241.568807</td>\n",
       "    </tr>\n",
       "  </tbody>\n",
       "</table>\n",
       "</div>"
      ],
      "text/plain": [
       "                     rating     runtime\n",
       "Runtime Breakdown                      \n",
       "< 1 Hrs            3.100157   32.638122\n",
       "1-2 Hrs            3.125094   95.906383\n",
       "2-3 Hrs            3.150833  137.213800\n",
       "> 3 Hrs            3.184412  241.568807"
      ]
     },
     "execution_count": 34,
     "metadata": {},
     "output_type": "execute_result"
    }
   ],
   "source": [
    "ratings_runtime_ave_df = trimmed_runtime_movies_df[[\"rating\", \"runtime\", \"Runtime Breakdown\"]]\n",
    "ratings_runtime_ave_df = ratings_runtime_ave_df.groupby(\"Runtime Breakdown\").mean()\n",
    "#ratings_runtime_ave_df.mean()\n",
    "ratings_runtime_ave_df.head()"
   ]
  },
  {
   "cell_type": "code",
   "execution_count": 35,
   "metadata": {},
   "outputs": [
    {
     "data": {
      "text/html": [
       "<div>\n",
       "<style scoped>\n",
       "    .dataframe tbody tr th:only-of-type {\n",
       "        vertical-align: middle;\n",
       "    }\n",
       "\n",
       "    .dataframe tbody tr th {\n",
       "        vertical-align: top;\n",
       "    }\n",
       "\n",
       "    .dataframe thead th {\n",
       "        text-align: right;\n",
       "    }\n",
       "</style>\n",
       "<table border=\"1\" class=\"dataframe\">\n",
       "  <thead>\n",
       "    <tr style=\"text-align: right;\">\n",
       "      <th></th>\n",
       "      <th>rating</th>\n",
       "    </tr>\n",
       "    <tr>\n",
       "      <th>Runtime Breakdown</th>\n",
       "      <th></th>\n",
       "    </tr>\n",
       "  </thead>\n",
       "  <tbody>\n",
       "    <tr>\n",
       "      <th>&lt; 1 Hrs</th>\n",
       "      <td>3.100157</td>\n",
       "    </tr>\n",
       "    <tr>\n",
       "      <th>1-2 Hrs</th>\n",
       "      <td>3.125094</td>\n",
       "    </tr>\n",
       "    <tr>\n",
       "      <th>2-3 Hrs</th>\n",
       "      <td>3.150833</td>\n",
       "    </tr>\n",
       "    <tr>\n",
       "      <th>&gt; 3 Hrs</th>\n",
       "      <td>3.184412</td>\n",
       "    </tr>\n",
       "  </tbody>\n",
       "</table>\n",
       "</div>"
      ],
      "text/plain": [
       "                     rating\n",
       "Runtime Breakdown          \n",
       "< 1 Hrs            3.100157\n",
       "1-2 Hrs            3.125094\n",
       "2-3 Hrs            3.150833\n",
       "> 3 Hrs            3.184412"
      ]
     },
     "execution_count": 35,
     "metadata": {},
     "output_type": "execute_result"
    }
   ],
   "source": [
    "# Filter the DataFrame down only to those columns to chart\n",
    "runtime_and_ave_df = ratings_runtime_ave_df[[\"rating\"]]\n",
    "\n",
    "# Set the index to be \"State\" so they will be used as labels\n",
    "#state_and_inches = state_and_inches.set_index(\"State\")\n",
    "\n",
    "runtime_and_ave_df.head()"
   ]
  },
  {
   "cell_type": "code",
   "execution_count": 36,
   "metadata": {},
   "outputs": [
    {
     "data": {
      "image/png": "[encoded data removed]",
      "text/plain": [
       "<Figure size 720x432 with 1 Axes>"
      ]
     },
     "metadata": {
      "needs_background": "light"
     },
     "output_type": "display_data"
    }
   ],
   "source": [
    "# Use DataFrame.plot() in order to create a bar chart of the data\n",
    "runtime_and_ave_df.plot(kind=\"bar\", figsize=(10,6))\n",
    "\n",
    "# Set a title for the chart\n",
    "plt.title(\"Average Rating per Runtime\", y=1.05, fontsize=20)\n",
    "plt.xlabel(\"Runtime\", y=1.05, fontsize=15)\n",
    "plt.ylabel(\"Average Rating\", fontsize=15)\n",
    "plt.legend(\"\")\n",
    "\n",
    "\n",
    "#runtime_and_ave_df.set_xlim([xmin,xmax])\n",
    "plt.ylim([3,3.2])\n",
    "\n",
    "#*******************************************************************************\n",
    "#Add the grid to the chart\n",
    "#*******************************************************************************\n",
    "plt.grid()\n",
    "\n",
    "plt.tight_layout()\n",
    "plt.show()\n"
   ]
  },
  {
   "cell_type": "code",
   "execution_count": null,
   "metadata": {},
   "outputs": [],
   "source": []
  },
  {
   "cell_type": "code",
   "execution_count": null,
   "metadata": {},
   "outputs": [],
   "source": []
  }
 ],
 "metadata": {
  "anaconda-cloud": {},
  "kernelspec": {
   "display_name": "Python [conda env:root]",
   "language": "python",
   "name": "conda-root-py"
  },
  "language_info": {
   "codemirror_mode": {
    "name": "ipython",
    "version": 3
   },
   "file_extension": ".py",
   "mimetype": "text/x-python",
   "name": "python",
   "nbconvert_exporter": "python",
   "pygments_lexer": "ipython3",
   "version": "3.7.1"
  },
  "varInspector": {
   "cols": {
    "lenName": 16,
    "lenType": 16,
    "lenVar": 40
   },
   "kernels_config": {
    "python": {
     "delete_cmd_postfix": "",
     "delete_cmd_prefix": "del ",
     "library": "var_list.py",
     "varRefreshCmd": "print(var_dic_list())"
    },
    "r": {
     "delete_cmd_postfix": ") ",
     "delete_cmd_prefix": "rm(",
     "library": "var_list.r",
     "varRefreshCmd": "cat(var_dic_list()) "
    }
   },
   "types_to_exclude": [
    "module",
    "function",
    "builtin_function_or_method",
    "instance",
    "_Feature"
   ],
   "window_display": false
  }
 },
 "nbformat": 4,
 "nbformat_minor": 2
}
